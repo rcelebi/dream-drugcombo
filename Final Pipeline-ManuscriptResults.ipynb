{
 "cells": [
  {
   "cell_type": "code",
   "execution_count": 1,
   "metadata": {},
   "outputs": [],
   "source": [
    "#replace Pubchemid with Smiles and merge known Smiles list with imputed Smiles\n",
    "!python putSmiles4PubChemID.py data/input/pubchem2smiles.txt data/input/Drug_info_release.csv \n"
   ]
  },
  {
   "cell_type": "code",
   "execution_count": 2,
   "metadata": {},
   "outputs": [],
   "source": [
    "# create fingerprint features\n",
    "!python createFingerprintFeatures.py drug_smiles.csv > data/features/drugs-fingerprint-matrix.txt\n"
   ]
  },
  {
   "cell_type": "code",
   "execution_count": 3,
   "metadata": {},
   "outputs": [],
   "source": [
    "#  create target feature (binary matrix)  If drugsin combination that have a target in Target Set, its corresponding entry is  1, otherwise 0\n",
    "!python createTargetFeatureMatrix.py data/input/Drug_info_release.csv data/input/targets-expansion.txt >  data/features/drugs-commontarget-matrix.txt\n"
   ]
  },
  {
   "cell_type": "code",
   "execution_count": 5,
   "metadata": {},
   "outputs": [],
   "source": [
    "# create common pathway feature (binary matrix)  if drugs target share common pathway  1, otherwise 0\n",
    "!python createCommonPathwayFeatureMatrix.py data/input/Drug_info_release.csv data/input/targets-expansion.txt data/input/kegg-cancerpathway-mapping.txt > data/features/drugs-commonpathway-matrix.txt \n"
   ]
  },
  {
   "cell_type": "code",
   "execution_count": 12,
   "metadata": {},
   "outputs": [],
   "source": [
    "# create protein domain features\n",
    "!python createProteinDomainFeatures.py data/input/Drug_info_release.csv data/input/targets-expansion.txt data/input/uniprot-hugo-mapping.txt data/input/domainAnalysis_Pfam.csv data/input/domainAnalysis_SMART.csv data/input/domainAnalysis_ProSiteProfiles.csv data/input/domainAnalysis_ProSitePatterns.csv data/input/domainAnalysis_SUPERFAMILY.csv > data/features/drugs-domains.txt\n"
   ]
  },
  {
   "cell_type": "code",
   "execution_count": 7,
   "metadata": {},
   "outputs": [
    {
     "name": "stdout",
     "output_type": "stream",
     "text": [
      "117\n",
      "DDI size:  67\n",
      "non-DDI size:  6719\n",
      "Train size:  6786\n",
      "2019-04-01 19:55:10 WARN  NativeCodeLoader:62 - Unable to load native-hadoop library for your platform... using builtin-java classes where applicable\n",
      "Setting default log level to \"WARN\".\n",
      "To adjust logging level use sc.setLogLevel(newLevel). For SparkR, use setLogLevel(newLevel).\n",
      "<SparkContext master=local[10] appName=pyspark-shell>\n",
      "2019-04-01 19:55:13 WARN  TaskSetManager:66 - Stage 0 contains a task of very large size (139 KB). The maximum recommended task size is 100 KB.\n",
      "Output file was stored in data/features/drug-synergy-network-features.txt\n"
     ]
    }
   ],
   "source": [
    "# calculate drug-drug pair topological features using synergistic drug network\n",
    "!python buildSynergticDrugCombNetwork.py "
   ]
  },
  {
   "cell_type": "code",
   "execution_count": 45,
   "metadata": {},
   "outputs": [],
   "source": [
    "# mean gene expression value for each clustered module  \n",
    "!python createMeanExprFeatureForGeneModule.py data/input/gex.csv data/input/GeneModules  > data/features/cell-gex-module-mean.txt\n"
   ]
  },
  {
   "cell_type": "code",
   "execution_count": null,
   "metadata": {},
   "outputs": [],
   "source": [
    "# mutations filtered by genes in cancer pathway and its expression varying significanty \n",
    "!python filterMutationsByCancerPathway.py ../data/input-data/gex.csv ../data/input-data/mutations.csv ../data/input-data/kegg-cancerpathway-mapping.txt > ../data/features/Dream10-cell-mutations-cancerpathway-significant.txt \n",
    "\n"
   ]
  },
  {
   "cell_type": "code",
   "execution_count": null,
   "metadata": {},
   "outputs": [],
   "source": [
    "# cnv filtered by genes correlated its gene expression with copy numbers significantly (above the mean correlation) and  involved in the KEGG cancer pathway\n",
    "!python createCNVFeaturesByGeneLevel.py ../data/input-data/gex.csv ../data/input-data/cnv_gene.csv ../data/input-data/kegg-cancerpathway-mapping.txt  > ../data/features/Dream10-cell-cnv-genes-cancerpathway.txt \n",
    "\n",
    "# cell clinical features\n",
    "!python findCoverageOfTermsInOnto.py ../data/input-data/cellosaurus.txt ../data/input-data/cell_info.csv "
   ]
  },
  {
   "cell_type": "code",
   "execution_count": 16,
   "metadata": {},
   "outputs": [],
   "source": [
    "from sklearn.model_selection import KFold\n",
    "import warnings\n",
    "warnings.filterwarnings(\"ignore\")"
   ]
  },
  {
   "cell_type": "code",
   "execution_count": 13,
   "metadata": {},
   "outputs": [],
   "source": [
    "import csv\n",
    "import numpy as np\n",
    "import sys\n",
    "import pandas as pd\n",
    "import itertools\n",
    "import math\n",
    "import time\n",
    "\n",
    "from sklearn import svm, linear_model, neighbors\n",
    "from sklearn import tree, ensemble\n",
    "\n",
    "from sklearn.naive_bayes import GaussianNB\n",
    "\n",
    "import networkx as nx\n",
    "import random\n",
    "import numbers"
   ]
  },
  {
   "cell_type": "code",
   "execution_count": 14,
   "metadata": {},
   "outputs": [],
   "source": [
    "from utils import *"
   ]
  },
  {
   "cell_type": "code",
   "execution_count": 15,
   "metadata": {},
   "outputs": [],
   "source": [
    "def crossvalid(train_df, test_df, model): \n",
    "    features_cols= train_df.columns.difference(['COMPOUND_A','COMPOUND_B' ,'SYNERGY_SCORE', 'CELL_LINE','COMBINATION_ID'])\n",
    "    X=train_df[features_cols].values\n",
    "    y=train_df['SYNERGY_SCORE'].values.ravel()\n",
    "\n",
    "    X_new=test_df[features_cols].values\n",
    "    y_new=test_df['SYNERGY_SCORE'].values.ravel()\n",
    "\n",
    "    model.fit(X,y)\n",
    "    probs= model.predict(X_new)\n",
    "    \n",
    "    pred_df = test_df[['SYNERGY_SCORE', 'CELL_LINE','COMBINATION_ID']]\n",
    "    pred_df['PREDICTION'] = probs\n",
    "    model_scores = get_scores(model, X_new, y_new)\n",
    "    model_scores['primaryMetric']=primaryMetric(pred_df)\n",
    "    #lr_scores = get_scores(lr, X_new, y_new)\n",
    "    \n",
    "    return model_scores#, sclf_scores\n"
   ]
  },
  {
   "cell_type": "code",
   "execution_count": 17,
   "metadata": {},
   "outputs": [],
   "source": [
    "import findspark\n",
    "findspark.init()\n",
    "\n",
    "from pyspark import SparkConf, SparkContext"
   ]
  },
  {
   "cell_type": "code",
   "execution_count": 18,
   "metadata": {},
   "outputs": [
    {
     "name": "stdout",
     "output_type": "stream",
     "text": [
      "<SparkContext master=local[10] appName=pyspark-shell>\n"
     ]
    }
   ],
   "source": [
    "if False: \n",
    "    sc.stop()\n",
    "\n",
    "config = SparkConf()\n",
    "config.setMaster(\"local[10]\")\n",
    "config.set(\"spark.executor.memory\", \"70g\")\n",
    "config.set('spark.driver.memory', '90g')\n",
    "config.set(\"spark.memory.offHeap.enabled\",True)\n",
    "config.set(\"spark.memory.offHeap.size\",\"50g\") \n",
    "sc = SparkContext(conf=config)\n",
    "print (sc)"
   ]
  },
  {
   "cell_type": "code",
   "execution_count": 21,
   "metadata": {},
   "outputs": [],
   "source": [
    "drugfeatfiles = ['drugs-commonpathway-matrix.txt', 'drugs-commontarget-matrix.txt', 'drugs-domains.txt','drugs-fingerprint-matrix.txt', 'drug-synergy-network-features.txt'] # 'network-sim.txt' 'Dream10-drugs-topo-sim.txt'\n",
    "diseasefeatfiles = ['Dream10-cell-cnv-genes-cancerpathway.txt','Dream10-cell-gex-module-mean.txt','Dream10-cell_phenotype_features.txt', 'Dream10-cell-mutations-cancerpathway-significant.txt' ]\n"
   ]
  },
  {
   "cell_type": "code",
   "execution_count": 22,
   "metadata": {},
   "outputs": [
    {
     "name": "stdout",
     "output_type": "stream",
     "text": [
      "drugs-commonpathway-matrix.txt  # columns : 142\n",
      "drugs-commontarget-matrix.txt  # columns : 187\n",
      "drugs-domains.txt  # columns : 372\n",
      "drugs-fingerprint-matrix.txt  # columns : 258\n",
      "drug-synergy-network-features.txt  # columns : 5\n"
     ]
    }
   ],
   "source": [
    "folder ='data/features/'\n",
    "for i,featureFilename in enumerate(drugfeatfiles):\n",
    "    temp=pd.read_csv(folder+featureFilename, delimiter='\\t')\n",
    "    if i != 0:\n",
    "        drug_df=drug_df.merge(temp,on=['Drug1','Drug2'],how='outer')\n",
    "        #drug_df=drug_df.merge(temp,how='outer',on='Drug')\n",
    "    else:\n",
    "        drug_df =temp\n",
    "    print (featureFilename,' # columns :',len(temp.columns))\n",
    "drug_df.fillna(0, inplace=True)"
   ]
  },
  {
   "cell_type": "code",
   "execution_count": 24,
   "metadata": {},
   "outputs": [
    {
     "data": {
      "text/plain": [
       "14161"
      ]
     },
     "execution_count": 24,
     "metadata": {},
     "output_type": "execute_result"
    }
   ],
   "source": [
    "len(drug_df)"
   ]
  },
  {
   "cell_type": "code",
   "execution_count": 25,
   "metadata": {},
   "outputs": [
    {
     "name": "stdout",
     "output_type": "stream",
     "text": [
      "Dream10-cell-cnv-genes-cancerpathway.txt  # columns : 144\n",
      "Dream10-cell-gex-module-mean.txt  # columns : 54\n",
      "Dream10-cell_phenotype_features.txt  # columns : 5\n",
      "Dream10-cell-mutations-cancerpathway-significant.txt  # columns : 877\n"
     ]
    }
   ],
   "source": [
    "folder ='data/features/'\n",
    "for i,featureFilename in enumerate(diseasefeatfiles):\n",
    "    temp=pd.read_csv(folder+featureFilename, delimiter='\\t')\n",
    "    if i != 0:\n",
    "        cell_df = cell_df.merge(temp,on=['CellLine'], how='outer')\n",
    "        #drug_df=drug_df.merge(temp,how='outer',on='Drug')\n",
    "    else:\n",
    "        cell_df = temp\n",
    "    print (featureFilename,' # columns :',len(temp.columns))\n",
    "cell_df.fillna(0, inplace=True)"
   ]
  },
  {
   "cell_type": "code",
   "execution_count": 26,
   "metadata": {},
   "outputs": [
    {
     "data": {
      "text/plain": [
       "85"
      ]
     },
     "execution_count": 26,
     "metadata": {},
     "output_type": "execute_result"
    }
   ],
   "source": [
    "len(cell_df)"
   ]
  },
  {
   "cell_type": "code",
   "execution_count": 29,
   "metadata": {},
   "outputs": [
    {
     "data": {
      "text/plain": [
       "2199"
      ]
     },
     "execution_count": 29,
     "metadata": {},
     "output_type": "execute_result"
    }
   ],
   "source": [
    "combo_df = pd.read_csv('data/input/ch1_train_combination_and_monoTherapy.csv', delimiter=',')\n",
    "len(combo_df)"
   ]
  },
  {
   "cell_type": "code",
   "execution_count": 31,
   "metadata": {},
   "outputs": [
    {
     "name": "stdout",
     "output_type": "stream",
     "text": [
      "591 2790\n"
     ]
    }
   ],
   "source": [
    "combo_df1 = pd.read_csv('data/input/ch1_LB.csv', delimiter=',')\n",
    "\n",
    "combo_df = combo_df.append(combo_df1)\n",
    "print (len(combo_df1),len(combo_df))"
   ]
  },
  {
   "cell_type": "code",
   "execution_count": 17,
   "metadata": {},
   "outputs": [],
   "source": [
    "#combo_df2 = pd.read_csv('data/input-data/ch2_LB.csv', delimiter=',')\n",
    "\n",
    "#combo_df = combo_df.append(combo_df2)\n",
    "#print (len(combo_df2),len(combo_df))"
   ]
  },
  {
   "cell_type": "code",
   "execution_count": 18,
   "metadata": {},
   "outputs": [],
   "source": [
    "#len(combo_df.groupby(['CELL_LINE','COMBINATION_ID']))"
   ]
  },
  {
   "cell_type": "code",
   "execution_count": 33,
   "metadata": {},
   "outputs": [],
   "source": [
    "cell_df.rename(columns={'CellLine':'CELL_LINE'}, inplace=True)\n",
    "drug_df.rename(columns={'Drug1':'COMPOUND_A', 'Drug2':'COMPOUND_B'}, inplace=True)"
   ]
  },
  {
   "cell_type": "code",
   "execution_count": 34,
   "metadata": {},
   "outputs": [
    {
     "data": {
      "text/plain": [
       "2044"
      ]
     },
     "execution_count": 34,
     "metadata": {},
     "output_type": "execute_result"
    }
   ],
   "source": [
    "combo_df = combo_df.merge(drug_df, on=['COMPOUND_A','COMPOUND_B']).merge(cell_df, on='CELL_LINE')\n",
    "len(combo_df.columns)"
   ]
  },
  {
   "cell_type": "code",
   "execution_count": 35,
   "metadata": {},
   "outputs": [
    {
     "data": {
      "text/plain": [
       "2790"
      ]
     },
     "execution_count": 35,
     "metadata": {},
     "output_type": "execute_result"
    }
   ],
   "source": [
    "len(combo_df)"
   ]
  },
  {
   "cell_type": "code",
   "execution_count": 36,
   "metadata": {},
   "outputs": [],
   "source": [
    "def cv_run(model, combo_df, drug_df, cell_df, train, test):\n",
    "    print( len(train),len(test))\n",
    "    train_df = combo_df.iloc[train]\n",
    "\n",
    "    test_df = combo_df.iloc[test]\n",
    "    model_scores= crossvalid(train_df, test_df, model)\n",
    "    return model_scores\n",
    "\n",
    "def cvSpark(model, combo_df, drug_df, cell_df, cv):    \n",
    "    #print (cv)\n",
    "    rdd = sc.parallelize(cv).map(lambda x: cv_run(model, combo_df, drug_df, cell_df, x[0], x[1] ))\n",
    "    all_scores = rdd.collect()\n",
    "    return pd.DataFrame(all_scores)"
   ]
  },
  {
   "cell_type": "code",
   "execution_count": 39,
   "metadata": {},
   "outputs": [],
   "source": [
    "from sklearn import cross_validation \n",
    "import xgboost as xgb\n",
    "from sklearn import svm\n",
    "from sklearn import metrics"
   ]
  },
  {
   "cell_type": "code",
   "execution_count": null,
   "metadata": {},
   "outputs": [],
   "source": [
    "# all_scores_df = pd.DataFrame()\n",
    "n_seed =100\n",
    "\n",
    "combo_df_bc= sc.broadcast(combo_df)\n",
    "drug_df_bc= sc.broadcast(drug_df)\n",
    "cell_df_bc= sc.broadcast(cell_df)\n",
    "n_run = 1\n",
    "n_fold = 10\n",
    "for i in range(n_run):\n",
    "    n_seed +=1\n",
    "    print ('run',i)\n",
    "    cv = cross_validation.KFold(len(combo_df), n_folds=10, shuffle=True, random_state=n_seed)\n",
    "    #cv = cross_validation.StratifiedKFold(y=tuples, n_folds=n_fold, shuffle=True, random_state=n_seed)\n",
    "    cv_list = [ (train,test) for i, (train, test) in enumerate(cv)]\n",
    "\n",
    "\n",
    "    rf_model = ensemble.RandomForestRegressor(n_estimators=200, n_jobs=10)\n",
    "    rf_scores =cvSpark(rf_model, combo_df_bc.value, drug_df_bc.value, cell_df_bc.value, cv_list)\n",
    "    lr_model = linear_model.LinearRegression()\n",
    "    lr_scores =cvSpark(lr_model, combo_df_bc.value, drug_df_bc.value, cell_df_bc.value, cv_list)\n",
    "    gbm = xgb.XGBRegressor(max_depth=10, n_estimators=250, learning_rate=0.05, \n",
    "                           colsample_bylevel= 0.8, subsample= 0.75)\n",
    "    gbm_scores =cvSpark(gbm, combo_df_bc.value, drug_df_bc.value, cell_df_bc.value, cv_list)\n",
    "    lasso = linear_model.Lasso(alpha=0.01)\n",
    "    lasso_scores =cvSpark(lasso, combo_df_bc.value, drug_df_bc.value, cell_df_bc.value, cv_list)\n",
    "    svm_model = svm.LinearSVR()\n",
    "    svm_scores =cvSpark(svm_model, combo_df_bc.value, drug_df_bc.value, cell_df_bc.value, cv_list)\n",
    "    lr_scores = lr_scores.mean()\n",
    "    gbm_scores = gbm_scores.mean()\n",
    "    rf_scores = rf_scores.mean()\n",
    "    lasso_scores = lasso_scores.mean()\n",
    "    svm_scores = svm_scores.mean()\n",
    "    \n",
    "    lr_scores['method']= 'LinReg'\n",
    "    gbm_scores['method']= 'XGBoost'\n",
    "    rf_scores['method']= 'Random Forest'\n",
    "    lasso_scores['method']= 'Lasso'\n",
    "    svm_scores['method']= 'SVM'\n",
    "\n",
    "    all_scores_df = all_scores_df.append(lr_scores.mean(), ignore_index=True)\n",
    "    all_scores_df = all_scores_df.append(gbm_scores, ignore_index=True)\n",
    "    all_scores_df = all_scores_df.append(rf_scores, ignore_index=True)\n",
    "    all_scores_df = all_scores_df.append(lasso_scores, ignore_index=True)\n",
    "    all_scores_df = all_scores_df.append(svm_scores, ignore_index=True)"
   ]
  },
  {
   "cell_type": "code",
   "execution_count": 34,
   "metadata": {},
   "outputs": [
    {
     "data": {
      "text/html": [
       "<div>\n",
       "<style scoped>\n",
       "    .dataframe tbody tr th:only-of-type {\n",
       "        vertical-align: middle;\n",
       "    }\n",
       "\n",
       "    .dataframe tbody tr th {\n",
       "        vertical-align: top;\n",
       "    }\n",
       "\n",
       "    .dataframe thead th {\n",
       "        text-align: right;\n",
       "    }\n",
       "</style>\n",
       "<table border=\"1\" class=\"dataframe\">\n",
       "  <thead>\n",
       "    <tr style=\"text-align: right;\">\n",
       "      <th></th>\n",
       "      <th>neg_mean_squared_error</th>\n",
       "      <th>primaryMetric</th>\n",
       "      <th>r2</th>\n",
       "    </tr>\n",
       "    <tr>\n",
       "      <th>method</th>\n",
       "      <th></th>\n",
       "      <th></th>\n",
       "      <th></th>\n",
       "    </tr>\n",
       "  </thead>\n",
       "  <tbody>\n",
       "    <tr>\n",
       "      <th>Lasso</th>\n",
       "      <td>-2.223359e+04</td>\n",
       "      <td>0.241981</td>\n",
       "      <td>-1.921940e+00</td>\n",
       "    </tr>\n",
       "    <tr>\n",
       "      <th>LinReg</th>\n",
       "      <td>-1.714133e+21</td>\n",
       "      <td>0.241415</td>\n",
       "      <td>-7.134217e+17</td>\n",
       "    </tr>\n",
       "    <tr>\n",
       "      <th>Random Forest</th>\n",
       "      <td>-2.033077e+04</td>\n",
       "      <td>0.379679</td>\n",
       "      <td>-1.601775e+00</td>\n",
       "    </tr>\n",
       "    <tr>\n",
       "      <th>SVM</th>\n",
       "      <td>-1.851414e+04</td>\n",
       "      <td>0.313326</td>\n",
       "      <td>1.859608e-01</td>\n",
       "    </tr>\n",
       "    <tr>\n",
       "      <th>XGBoost</th>\n",
       "      <td>-1.884207e+04</td>\n",
       "      <td>0.393769</td>\n",
       "      <td>-9.954959e-01</td>\n",
       "    </tr>\n",
       "  </tbody>\n",
       "</table>\n",
       "</div>"
      ],
      "text/plain": [
       "               neg_mean_squared_error  primaryMetric            r2\n",
       "method                                                            \n",
       "Lasso                   -2.223359e+04       0.241981 -1.921940e+00\n",
       "LinReg                  -1.714133e+21       0.241415 -7.134217e+17\n",
       "Random Forest           -2.033077e+04       0.379679 -1.601775e+00\n",
       "SVM                     -1.851414e+04       0.313326  1.859608e-01\n",
       "XGBoost                 -1.884207e+04       0.393769 -9.954959e-01"
      ]
     },
     "execution_count": 34,
     "metadata": {},
     "output_type": "execute_result"
    }
   ],
   "source": [
    "all_scores_df.groupby('method').mean()"
   ]
  },
  {
   "cell_type": "code",
   "execution_count": 189,
   "metadata": {},
   "outputs": [],
   "source": [
    "all_scores_df.to_csv('data/results/modelComparison_ch1_train_lb_Abridge_10of10-CV.csv',sep=',')"
   ]
  },
  {
   "cell_type": "markdown",
   "metadata": {},
   "source": [
    "## Tuning the Xgboost parameters"
   ]
  },
  {
   "cell_type": "code",
   "execution_count": 26,
   "metadata": {},
   "outputs": [],
   "source": [
    "\n",
    "def cvSparkXGboost(train_df, test_df, params):    \n",
    "    #print (cv)\n",
    "    rdd = sc.parallelize(params).map(lambda param: cv_run_gbm( train_df, test_df, param))\n",
    "    all_scores = rdd.collect()\n",
    "    return pd.DataFrame(all_scores)\n",
    "\n",
    "\n",
    "def fold_gbm(combo_df, drug_df, cell_df, param):\n",
    "    gbm = xgb.XGBRegressor(max_depth=param['max_depth'], n_estimators=param['n_estimators'], learning_rate=0.05, \n",
    "                           subsample=param['subsample'], colsample_bytree=param['colsample_bytree']) \n",
    "    #gbm = xgb.XGBRegressor(max_depth=12, n_estimators=100, learning_rate=0.05,  colsample_bylevel= 0.8, colsample_bytree= 0.8)\n",
    "\n",
    "    #print( len(train),len(test))\n",
    "    train = param['train']\n",
    "    test = param['test']\n",
    "    train_df = combo_df.iloc[train]\n",
    "\n",
    "    test_df = combo_df.iloc[test]\n",
    "    \n",
    "    train_df = train_df.merge(drug_df, on=['COMPOUND_A','COMPOUND_B']).merge(cell_df, on='CELL_LINE')\n",
    "\n",
    "    test_df = test_df.merge(drug_df, on=['COMPOUND_A','COMPOUND_B']).merge(cell_df, on='CELL_LINE')\n",
    "    \n",
    "    gbm_scores= crossvalid(train_df, test_df, gbm)\n",
    "    gbm_scores['seed'] = param['seed']\n",
    "    gbm_scores['run'] = param['run']\n",
    "    gbm_scores['fold'] = param['fold']\n",
    "    gbm_scores['max_depth']= param['max_depth']\n",
    "    gbm_scores['n_estimators']= param['n_estimators']\n",
    "    gbm_scores['subsample']= param['subsample']\n",
    "    gbm_scores['colsample_bytree']= param['colsample_bytree']\n",
    "    return gbm_scores\n",
    "\n",
    "def cvSparkXGboost(combo_df, drug_df, cell_df, params):    \n",
    "    #print (cv)\n",
    "    rdd = sc.parallelize(params).map(lambda param: fold_gbm(combo_df, drug_df, cell_df, param))\n",
    "    all_scores = rdd.collect()\n",
    "    return pd.DataFrame(all_scores)"
   ]
  },
  {
   "cell_type": "code",
   "execution_count": null,
   "metadata": {},
   "outputs": [],
   "source": [
    "#subsample = c(0.5, 0.75, 1), \n",
    "#colsample_bytree = c(0.6, 0.8, 1),\n",
    "#maxTreeDepth = c(8, 10, 12, 15))\n",
    "\n",
    "params=[]\n",
    "n_seed = 100\n",
    "for run in range(10):\n",
    "    n_seed +=1\n",
    "    print ('run',)\n",
    "    #cv = cross_validation.KFold(len(combo_df), n_folds=10, shuffle=True, random_state=n_seed)\n",
    "    cv = cross_validation.StratifiedKFold(y=tuples, n_folds=10, shuffle=True, random_state=n_seed)\n",
    "    for fold, (train, test) in enumerate(cv):\n",
    "        for subsample in [0.75, 0.9, 1]:\n",
    "            for colsample_bytree in [0.8, 1]:\n",
    "                for n_tree in [100, 250, 500]:\n",
    "                    param={'max_depth':8,'n_estimators':n_tree,'subsample':subsample,'colsample_bytree':colsample_bytree}\n",
    "                    print (param)\n",
    "                    param.update({'seed':n_seed,'run':run,'fold':fold,'train':train,'test':test})\n",
    "                    params.append(param)\n",
    "\n",
    "\n"
   ]
  },
  {
   "cell_type": "code",
   "execution_count": null,
   "metadata": {},
   "outputs": [],
   "source": [
    "combo_df_bc= sc.broadcast(combo_df)\n",
    "drug_df_bc= sc.broadcast(drug_df)\n",
    "cell_df_bc= sc.broadcast(cell_df)\n",
    "params_bc= sc.broadcast(params)\n",
    "gbm_scores =cvSparkXGboost(combo_df_bc.value, drug_df_bc.value, cell_df_bc.value, params_bc.value)"
   ]
  },
  {
   "cell_type": "code",
   "execution_count": 32,
   "metadata": {},
   "outputs": [
    {
     "name": "stdout",
     "output_type": "stream",
     "text": [
      "(0.75, 0.8, 100, 8) 0.3687445065183805\n",
      "(0.75, 0.8, 250, 8) 0.37762284826484727\n",
      "(0.75, 0.8, 500, 8) 0.3821622761908202\n",
      "(0.75, 1.0, 100, 8) 0.3694247279392223\n",
      "(0.75, 1.0, 250, 8) 0.3835034952694392\n",
      "(0.75, 1.0, 500, 8) 0.38964455294217715\n",
      "(0.9, 0.8, 100, 8) 0.364997778457321\n",
      "(0.9, 0.8, 250, 8) 0.3783834937695888\n",
      "(0.9, 0.8, 500, 8) 0.3791122789325035\n",
      "(0.9, 1.0, 100, 8) 0.36004792468089974\n",
      "(0.9, 1.0, 250, 8) 0.3731035874069096\n",
      "(0.9, 1.0, 500, 8) 0.3739782441183055\n",
      "(1.0, 0.8, 100, 8) 0.35967130728078445\n",
      "(1.0, 0.8, 250, 8) 0.37353486761702326\n",
      "(1.0, 0.8, 500, 8) 0.3720529847211161\n",
      "(1.0, 1.0, 100, 8) 0.35424626175076857\n",
      "(1.0, 1.0, 250, 8) 0.3612931476505155\n",
      "(1.0, 1.0, 500, 8) 0.3651421662615035\n"
     ]
    }
   ],
   "source": [
    "for g, df in gbm_scores.groupby(['subsample','colsample_bytree','n_estimators','max_depth']):\n",
    "    scores=[]\n",
    "    for r, dfr in df.groupby('run'):\n",
    "        scores.append(dfr['primaryMetric'].mean())\n",
    "    print (g, np.mean(scores))"
   ]
  },
  {
   "cell_type": "code",
   "execution_count": 196,
   "metadata": {},
   "outputs": [
    {
     "name": "stdout",
     "output_type": "stream",
     "text": [
      "(0.75, 0.8, 250, 8) 0.37762284826484727\n",
      "(0.75, 0.8, 250, 10) 0.3749030091585308\n",
      "(0.75, 0.8, 250, 12) 0.38115003324146757\n",
      "(0.75, 0.8, 250, 15) 0.3747319481988999\n",
      "(0.75, 1.0, 250, 8) 0.3835034952694392\n",
      "(0.75, 1.0, 250, 10) 0.3797580812983242\n",
      "(0.75, 1.0, 250, 12) 0.37605324740554724\n",
      "(0.75, 1.0, 250, 15) 0.38253286306722256\n",
      "(0.9, 0.8, 250, 8) 0.3783834937695888\n",
      "(0.9, 0.8, 250, 10) 0.37706728957598923\n",
      "(0.9, 0.8, 250, 12) 0.3742196582115166\n",
      "(0.9, 0.8, 250, 15) 0.3698577660573946\n",
      "(0.9, 1.0, 250, 8) 0.3731035874069096\n",
      "(0.9, 1.0, 250, 10) 0.3682319399302032\n",
      "(0.9, 1.0, 250, 12) 0.36665461249304054\n",
      "(0.9, 1.0, 250, 15) 0.3635715406352677\n",
      "(1.0, 0.8, 250, 8) 0.37353486761702326\n",
      "(1.0, 0.8, 250, 10) 0.3704579192594775\n",
      "(1.0, 0.8, 250, 12) 0.3687655362262067\n",
      "(1.0, 0.8, 250, 15) 0.3646992652383646\n",
      "(1.0, 1.0, 250, 8) 0.3612931476505155\n",
      "(1.0, 1.0, 250, 10) 0.3648582734354161\n",
      "(1.0, 1.0, 250, 12) 0.3566880419221299\n",
      "(1.0, 1.0, 250, 15) 0.3445527616536744\n"
     ]
    }
   ],
   "source": [
    "for g, df in gbm_scores.groupby(['subsample','colsample_bytree','n_estimators','max_depth']):\n",
    "    scores=[]\n",
    "    for r, dfr in df.groupby('run'):\n",
    "        scores.append(dfr['primaryMetric'].mean())\n",
    "    print (g, np.mean(scores))"
   ]
  },
  {
   "cell_type": "code",
   "execution_count": 34,
   "metadata": {},
   "outputs": [],
   "source": [
    "all_df = pd.DataFrame()\n",
    "for g1, df in gbm_scores.groupby(['subsample','colsample_bytree','n_estimators','max_depth']):\n",
    "    for g2, x_df in df.groupby('run'): \n",
    "        #print (g1,g2)\n",
    "        all_df= all_df.append(x_df.mean(), ignore_index=True)"
   ]
  },
  {
   "cell_type": "code",
   "execution_count": 35,
   "metadata": {},
   "outputs": [],
   "source": [
    "all_df.to_csv('data/results/xgboost_gridsearch_ch1_train_lb_Abridge_10of10-CV.csv',sep=',')"
   ]
  },
  {
   "cell_type": "code",
   "execution_count": null,
   "metadata": {},
   "outputs": [],
   "source": []
  }
 ],
 "metadata": {
  "kernelspec": {
   "display_name": "Python 3",
   "language": "python",
   "name": "python3"
  },
  "language_info": {
   "codemirror_mode": {
    "name": "ipython",
    "version": 3
   },
   "file_extension": ".py",
   "mimetype": "text/x-python",
   "name": "python",
   "nbconvert_exporter": "python",
   "pygments_lexer": "ipython3",
   "version": "3.6.7"
  }
 },
 "nbformat": 4,
 "nbformat_minor": 2
}
